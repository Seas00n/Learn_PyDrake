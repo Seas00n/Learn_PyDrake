{
 "cells": [
  {
   "cell_type": "markdown",
   "source": [
    "# Introduction to Modeling Dynamical System\n",
    "Drake和Simulink一样使用动态系统描述\n",
    "通过定义不同模块的输入，输出，操作等组成大的系统进行仿真\n",
    "\n"
   ],
   "metadata": {
    "collapsed": false
   }
  },
  {
   "cell_type": "markdown",
   "source": [
    "## 关于Drake底层的一些理解\n",
    "1.const的使用和mutable\n",
    "https://www.cnblogs.com/wintergrass/archive/2011/04/15/2015020.html\n",
    "2.动态连接\n",
    "\n",
    "3.动态系统的仿真流程\n",
    "https://www.mathworks.com/help/simulink/ug/simulating-dynamic-systems.html\n",
    "4.关于协程\n"
   ],
   "metadata": {
    "collapsed": false
   }
  },
  {
   "cell_type": "markdown",
   "source": [
    "## System基类\n",
    "关于System的函数推荐直接看[LeafSystem](https://drake.mit.edu/doxygen_cxx/classdrake_1_1systems_1_1_leaf_system.html)"
   ],
   "metadata": {
    "collapsed": false
   }
  },
  {
   "cell_type": "markdown",
   "source": [
    "## Context类"
   ],
   "metadata": {
    "collapsed": false
   }
  },
  {
   "cell_type": "markdown",
   "source": [
    "### LeafSystem创建\n",
    "默认初始化函数会创建一个没有input port, output port, parameters, events和scalar type的空模块"
   ],
   "metadata": {
    "collapsed": false
   }
  },
  {
   "cell_type": "code",
   "execution_count": 6,
   "outputs": [],
   "source": [
    "import numpy as np\n",
    "from pydrake.all import LeafSystem\n",
    "sys = LeafSystem()"
   ],
   "metadata": {
    "collapsed": false,
    "ExecuteTime": {
     "end_time": "2023-05-13T21:55:50.955290615Z",
     "start_time": "2023-05-13T21:55:50.912302404Z"
    }
   }
  },
  {
   "cell_type": "markdown",
   "source": [
    "### LeafSystem状态声明\n",
    "LeafSystem通过指定变量个数声明状态\n",
    "连续时间变量只有一组，但是离散时间变量每次调用Declare函数都会创建一组新的\n",
    "当使用BasicVector创建时，会将输入作为默认值（0时刻的值）"
   ],
   "metadata": {
    "collapsed": false
   }
  },
  {
   "cell_type": "code",
   "execution_count": 7,
   "outputs": [
    {
     "name": "stdout",
     "output_type": "stream",
     "text": [
      "3\n",
      "2\n"
     ]
    }
   ],
   "source": [
    "from pydrake.all import BasicVector, AbstractValue\n",
    "continuous_state_idx =sys.DeclareContinuousState(num_state_variables=1)\n",
    "continuous_state_idx = sys.DeclareContinuousState(num_q=2,num_v=2,num_z=4)\n",
    "continuous_state_idx = sys.DeclareContinuousState(model_vector=BasicVector(np.array([1,2,3])))\n",
    "discrete_state_idx = sys.DeclareDiscreteState(model_vector=BasicVector(np.array([1,2,3,4,5])))\n",
    "discrete_state_idx = sys.DeclareDiscreteState(model_vector=BasicVector(np.array([1,2,3])))\n",
    "print(sys.num_continuous_states())\n",
    "print(sys.num_discrete_state_groups())"
   ],
   "metadata": {
    "collapsed": false,
    "ExecuteTime": {
     "end_time": "2023-05-13T21:55:50.955525168Z",
     "start_time": "2023-05-13T21:55:50.955155394Z"
    }
   }
  },
  {
   "cell_type": "markdown",
   "source": [
    "### LeafSystem创建Context\n",
    "通过Context获取仿真过程中系统的变化情况，包括时间，数值状态等。"
   ],
   "metadata": {
    "collapsed": false
   }
  },
  {
   "cell_type": "code",
   "execution_count": 15,
   "outputs": [
    {
     "name": "stdout",
     "output_type": "stream",
     "text": [
      "[1.0, 2.0, 3.0]\n",
      "[1.0, 2.0, 3.0, 4.0, 5.0]\n",
      "[1.0, 2.0, 3.0]\n",
      "[1.0, 2.0, 3.0, 4.0, 5.0]\n",
      "[1.0, 2.0, 3.0]\n",
      "[1.0, 2.0, 3.0]\n"
     ]
    }
   ],
   "source": [
    "sys_context = sys.CreateDefaultContext()\n",
    "print(sys_context.get_continuous_state_vector())\n",
    "print(sys_context.get_discrete_state(0))\n",
    "sys.SetDefaultContext(sys_context)\n",
    "print(sys_context.get_continuous_state_vector())\n",
    "print(sys_context.get_discrete_state(0))\n"
   ],
   "metadata": {
    "collapsed": false,
    "ExecuteTime": {
     "end_time": "2023-05-13T22:06:59.493257570Z",
     "start_time": "2023-05-13T22:06:59.491811509Z"
    }
   }
  },
  {
   "cell_type": "markdown",
   "source": [],
   "metadata": {
    "collapsed": false
   }
  },
  {
   "cell_type": "code",
   "execution_count": 24,
   "outputs": [
    {
     "name": "stdout",
     "output_type": "stream",
     "text": [
      "[3.0, 4.0, 5.0]\n",
      "[3.0, 4.0, 5.0]\n",
      "[3.0, 4.0, 5.0]\n"
     ]
    }
   ],
   "source": [
    "c_parent= sys.CreateDefaultContext()\n",
    "c_child_normal = sys.GetMyContextFromRoot(c_parent)\n",
    "c_child_normal2 = sys.GetMyContextFromRoot(c_parent)\n",
    "c_child_mutable = sys.GetMyMutableContextFromRoot(c_parent)\n",
    "\n",
    "c_child_normal.SetContinuousState(np.array([3,4,5]))\n",
    "print(c_parent.get_continuous_state_vector())\n",
    "print(c_child_normal2.get_continuous_state_vector())\n",
    "print(c_child_mutable.get_continuous_state_vector())"
   ],
   "metadata": {
    "collapsed": false,
    "ExecuteTime": {
     "end_time": "2023-05-14T06:06:10.132372809Z",
     "start_time": "2023-05-14T06:06:10.084816058Z"
    }
   }
  },
  {
   "cell_type": "markdown",
   "source": [
    "\n"
   ],
   "metadata": {
    "collapsed": false
   }
  }
 ],
 "metadata": {
  "kernelspec": {
   "display_name": "Python 3",
   "language": "python",
   "name": "python3"
  },
  "language_info": {
   "codemirror_mode": {
    "name": "ipython",
    "version": 2
   },
   "file_extension": ".py",
   "mimetype": "text/x-python",
   "name": "python",
   "nbconvert_exporter": "python",
   "pygments_lexer": "ipython2",
   "version": "2.7.6"
  }
 },
 "nbformat": 4,
 "nbformat_minor": 0
}
