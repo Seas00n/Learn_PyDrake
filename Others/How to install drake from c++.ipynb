{
 "cells": [
  {
   "cell_type": "raw",
   "source": [
    "# Drake 在 Ubuntu 下的安装\n",
    "https://drake.mit.edu/from_source.html#getting-drake\n",
    "\n",
    "注意一定要先运行环境配置\n",
    "https://drake.mit.edu/ubuntu.html\n",
    "\n",
    "## 常见问题\n",
    "依赖的安装\n",
    "sudo apt install\n",
    "Eigen3 libeigen3-dev\n",
    "Ipopt coinor-libipopt-dev\n",
    "Spdlog libspdlog-dev\n",
    "Clp coinor-libclp-dev\n",
    "\n",
    "\n",
    "## bazel build\n",
    "控制线程数：--jobs=10\n"
   ],
   "metadata": {
    "collapsed": false,
    "pycharm": {
     "name": ""
    }
   }
  }
 ],
 "metadata": {
  "kernelspec": {
   "display_name": "Python 3",
   "language": "python",
   "name": "python3"
  },
  "language_info": {
   "codemirror_mode": {
    "name": "ipython",
    "version": 2
   },
   "file_extension": ".py",
   "mimetype": "text/x-python",
   "name": "python",
   "nbconvert_exporter": "python",
   "pygments_lexer": "ipython2",
   "version": "2.7.6"
  }
 },
 "nbformat": 4,
 "nbformat_minor": 0
}
